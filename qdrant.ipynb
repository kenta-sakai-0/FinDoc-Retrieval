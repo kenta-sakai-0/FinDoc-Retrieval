{
 "cells": [
  {
   "cell_type": "code",
   "execution_count": null,
   "metadata": {},
   "outputs": [],
   "source": [
    "# Run this in powershell to start qdrant\n",
    "# docker run -p 6333:6333 -v D:\\qdrant_data:/qdrant/storage qdrant/qdrant"
   ]
  },
  {
   "cell_type": "markdown",
   "metadata": {},
   "source": [
    "# Create collection and load one document"
   ]
  },
  {
   "cell_type": "code",
   "execution_count": 32,
   "metadata": {},
   "outputs": [
    {
     "name": "stderr",
     "output_type": "stream",
     "text": [
      "C:\\Users\\Kenta Sakai\\AppData\\Local\\Temp\\ipykernel_9984\\2227660810.py:2: FutureWarning: You are using `torch.load` with `weights_only=False` (the current default value), which uses the default pickle module implicitly. It is possible to construct malicious pickle data which will execute arbitrary code during unpickling (See https://github.com/pytorch/pytorch/blob/main/SECURITY.md#untrusted-models for more details). In a future release, the default value for `weights_only` will be flipped to `True`. This limits the functions that could be executed during unpickling. Arbitrary objects will no longer be allowed to be loaded via this mode unless they are explicitly allowlisted by the user via `torch.serialization.add_safe_globals`. We recommend you start setting `weights_only=True` for any use case where you don't have full control of the loaded file. Please open an issue on GitHub for any issues related to this experimental feature.\n",
      "  test_tensor = torch.load(r\"data\\colpali_embeddings\\0000320193-23-000005.pt\")\n"
     ]
    },
    {
     "data": {
      "text/plain": [
       "torch.Size([1030, 128])"
      ]
     },
     "execution_count": 32,
     "metadata": {},
     "output_type": "execute_result"
    }
   ],
   "source": [
    "import torch\n",
    "test_tensor = torch.load(r\"data\\colpali_embeddings\\0000320193-23-000005.pt\")\n",
    "test_tensor[0].shape\n",
    "\n",
    "# It needs to be "
   ]
  },
  {
   "cell_type": "code",
   "execution_count": null,
   "metadata": {},
   "outputs": [],
   "source": [
    "from qdrant_client import QdrantClient, models\n",
    "import config\n",
    "\n",
    "client = QdrantClient(\"http://localhost:6333\") # Connect to existing Qdrant instance\n",
    "\n",
    "# https://python-client.qdrant.tech/qdrant_client.http.models.models.html?highlight=sparsevector#qdrant_client.http.models.models.SparseVectorParams\n",
    "# sparse_vectors_config = {\n",
    "#     \"splade\": models.SparseVectorParams()\n",
    "# }\n",
    "\n",
    "# https://qdrant.tech/documentation/concepts/vectors/\n",
    "vectors_config = {\n",
    "    \"colpali\": models.VectorParams(\n",
    "        size=128,\n",
    "        distance=models.Distance.COSINE,\n",
    "        multivector_config=models.MultiVectorConfig(\n",
    "            comparator=models.MultiVectorComparator.MAX_SIM\n",
    "        )\n",
    "    )\n",
    "}\n",
    "\n",
    "# client.create_collection(\n",
    "#     collection_name=config.COLLECTION_NAME,\n",
    "#     vectors_config=vectors_config,\n",
    "# )"
   ]
  },
  {
   "cell_type": "code",
   "execution_count": 33,
   "metadata": {},
   "outputs": [
    {
     "data": {
      "text/plain": [
       "UpdateResult(operation_id=7, status=<UpdateStatus.COMPLETED: 'completed'>)"
      ]
     },
     "execution_count": 33,
     "metadata": {},
     "output_type": "execute_result"
    }
   ],
   "source": [
    "import uuid\n",
    "\n",
    "# Upsert the point into the Qdrant collection\n",
    "client.upsert(\n",
    "    collection_name=config.COLLECTION_NAME,\n",
    "    points=[\n",
    "        models.PointStruct(\n",
    "            id=1, \n",
    "            vector={\n",
    "                \"colpali\": test_tensor[0].tolist()  # Provide the vector as a flat list\n",
    "            }\n",
    "        ),\n",
    "        models.PointStruct(\n",
    "            id=2,  \n",
    "            vector={\n",
    "                \"colpali\": test_tensor[1].tolist()  # Provide the vector as a flat list\n",
    "            }\n",
    "        ),\n",
    "        models.PointStruct(\n",
    "            id=3,  \n",
    "            vector={\n",
    "                \"colpali\": test_tensor[2].tolist()  # Provide the vector as a flat list\n",
    "            }\n",
    "        ),\n",
    "        models.PointStruct(\n",
    "            id=4,  \n",
    "            vector={\n",
    "                \"colpali\": test_tensor[3].tolist()  # Provide the vector as a flat list\n",
    "            }\n",
    "        ),\n",
    "    ],\n",
    ")\n",
    "\n",
    "\n"
   ]
  },
  {
   "cell_type": "code",
   "execution_count": 31,
   "metadata": {},
   "outputs": [
    {
     "data": {
      "text/plain": [
       "UpdateResult(operation_id=6, status=<UpdateStatus.COMPLETED: 'completed'>)"
      ]
     },
     "execution_count": 31,
     "metadata": {},
     "output_type": "execute_result"
    }
   ],
   "source": [
    "# How to add payload\n",
    "client.set_payload(\n",
    "    collection_name=config.COLLECTION_NAME,\n",
    "    payload={\n",
    "        \"page\": 0,\n",
    "        \"company\": \"Apple, Inc.\",\n",
    "    },\n",
    "    points=[\"0d8885f2-d208-40f8-bf40-b539719c20b2\"],\n",
    ")"
   ]
  },
  {
   "cell_type": "code",
   "execution_count": null,
   "metadata": {},
   "outputs": [],
   "source": [
    "# How to query\n",
    "# https://qdrant.tech/documentation/concepts/search/\n",
    "\n",
    "client.query_points(\n",
    "    collection_name= config.COLLECTION_NAME,\n",
    "    query=[0.2, 0.1, 0.9, 0.7], \n",
    "    using=\"colpali\"\n",
    ")"
   ]
  }
 ],
 "metadata": {
  "kernelspec": {
   "display_name": "findoc_embedding",
   "language": "python",
   "name": "python3"
  },
  "language_info": {
   "codemirror_mode": {
    "name": "ipython",
    "version": 3
   },
   "file_extension": ".py",
   "mimetype": "text/x-python",
   "name": "python",
   "nbconvert_exporter": "python",
   "pygments_lexer": "ipython3",
   "version": "3.10.11"
  }
 },
 "nbformat": 4,
 "nbformat_minor": 2
}
