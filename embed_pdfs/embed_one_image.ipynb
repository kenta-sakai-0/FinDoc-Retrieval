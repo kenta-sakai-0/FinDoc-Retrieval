{
 "cells": [
  {
   "cell_type": "code",
   "execution_count": null,
   "metadata": {},
   "outputs": [],
   "source": [
    "!pip install colpali_engine==0.3.1"
   ]
  },
  {
   "cell_type": "code",
   "execution_count": 1,
   "metadata": {},
   "outputs": [
    {
     "name": "stderr",
     "output_type": "stream",
     "text": [
      "C:\\Users\\Kenta Sakai\\AppData\\Local\\Packages\\PythonSoftwareFoundation.Python.3.10_qbz5n2kfra8p0\\LocalCache\\local-packages\\Python310\\site-packages\\tqdm\\auto.py:21: TqdmWarning: IProgress not found. Please update jupyter and ipywidgets. See https://ipywidgets.readthedocs.io/en/stable/user_install.html\n",
      "  from .autonotebook import tqdm as notebook_tqdm\n",
      "`config.hidden_act` is ignored, you should use `config.hidden_activation` instead.\n",
      "Gemma's activation function will be set to `gelu_pytorch_tanh`. Please, use\n",
      "`config.hidden_activation` if you want to override this behaviour.\n",
      "See https://github.com/huggingface/transformers/pull/29402 for more details.\n",
      "Loading checkpoint shards: 100%|██████████| 2/2 [00:05<00:00,  2.73s/it]\n"
     ]
    }
   ],
   "source": [
    "import torch\n",
    "from transformers import AutoProcessor\n",
    "from colpali_engine.models import ColPali, ColPaliProcessor\n",
    "from PIL import Image\n",
    "\n",
    "model_name = \"vidore/colpali\"\n",
    "model = ColPali.from_pretrained(\"vidore/colpaligemma-3b-mix-448-base\", torch_dtype=torch.bfloat16, device_map=\"cuda\").eval()\n",
    "model.load_adapter(model_name)\n",
    "processor = AutoProcessor.from_pretrained(model_name)"
   ]
  },
  {
   "cell_type": "code",
   "execution_count": 5,
   "metadata": {},
   "outputs": [
    {
     "name": "stdout",
     "output_type": "stream",
     "text": [
      "Embedding shape: torch.Size([2, 1030, 128])\n",
      "Embedding type: torch.bfloat16\n"
     ]
    }
   ],
   "source": [
    "# What does ColPali image embedding look like?\n",
    "\n",
    "# Embed my bluejay picture\n",
    "image1 = Image.open(r\".\\docs\\wordpress.png\")\n",
    "image2 = Image.open(r\".\\docs\\bluejay.jpg\")\n",
    "processed_image = ColPaliProcessor.process_images(processor, [image1, image2])\n",
    "with torch.no_grad():\n",
    "    processed_image = {k: v.to(model.device) for k, v in processed_image.items()}\n",
    "    embedding = model(**processed_image)\n",
    "\n",
    "# Move the embedding to CPU and convert to a regular Python list if needed\n",
    "embedding_cpu = embedding.cpu()\n",
    "embedding_list = embedding_cpu.tolist() \n",
    "\n",
    "print(f\"Embedding shape: {embedding_cpu.shape}\")\n",
    "print(f\"Embedding type: {embedding_cpu.dtype}\")"
   ]
  }
 ],
 "metadata": {
  "kernelspec": {
   "display_name": "Python 3",
   "language": "python",
   "name": "python3"
  },
  "language_info": {
   "codemirror_mode": {
    "name": "ipython",
    "version": 3
   },
   "file_extension": ".py",
   "mimetype": "text/x-python",
   "name": "python",
   "nbconvert_exporter": "python",
   "pygments_lexer": "ipython3",
   "version": "3.10.11"
  }
 },
 "nbformat": 4,
 "nbformat_minor": 2
}
