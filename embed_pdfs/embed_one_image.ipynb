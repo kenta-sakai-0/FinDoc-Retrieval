{
 "cells": [
  {
   "cell_type": "code",
   "execution_count": null,
   "metadata": {},
   "outputs": [],
   "source": [
    "!pip install colpali_engine==0.3.1"
   ]
  },
  {
   "cell_type": "markdown",
   "metadata": {},
   "source": [
    "# I) Embed one picture"
   ]
  },
  {
   "cell_type": "code",
   "execution_count": 2,
   "metadata": {},
   "outputs": [
    {
     "name": "stderr",
     "output_type": "stream",
     "text": [
      "C:\\Users\\Kenta Sakai\\AppData\\Local\\Packages\\PythonSoftwareFoundation.Python.3.10_qbz5n2kfra8p0\\LocalCache\\local-packages\\Python310\\site-packages\\tqdm\\auto.py:21: TqdmWarning: IProgress not found. Please update jupyter and ipywidgets. See https://ipywidgets.readthedocs.io/en/stable/user_install.html\n",
      "  from .autonotebook import tqdm as notebook_tqdm\n",
      "`config.hidden_act` is ignored, you should use `config.hidden_activation` instead.\n",
      "Gemma's activation function will be set to `gelu_pytorch_tanh`. Please, use\n",
      "`config.hidden_activation` if you want to override this behaviour.\n",
      "See https://github.com/huggingface/transformers/pull/29402 for more details.\n",
      "Loading checkpoint shards: 100%|██████████| 2/2 [00:08<00:00,  4.33s/it]\n"
     ]
    }
   ],
   "source": [
    "import torch\n",
    "from transformers import AutoProcessor\n",
    "from colpali_engine.models import ColPali, ColPaliProcessor\n",
    "from PIL import Image\n",
    "\n",
    "model_name = \"vidore/colpali\"\n",
    "model = ColPali.from_pretrained(\"vidore/colpaligemma-3b-mix-448-base\", torch_dtype=torch.bfloat16, device_map=\"cuda\").eval()\n",
    "model.load_adapter(model_name)\n",
    "autoprocessor = AutoProcessor.from_pretrained(model_name)\n",
    "processor = ColPaliProcessor(\n",
    "    tokenizer=autoprocessor.tokenizer,\n",
    "    image_processor=autoprocessor.image_processor\n",
    ")"
   ]
  },
  {
   "cell_type": "code",
   "execution_count": 25,
   "metadata": {},
   "outputs": [
    {
     "name": "stdout",
     "output_type": "stream",
     "text": [
      "Embedding shape: torch.Size([1, 1030, 128])\n",
      "Embedding type: torch.bfloat16\n"
     ]
    }
   ],
   "source": [
    "# What does ColPali image embedding look like?\n",
    "\n",
    "# Embed picture\n",
    "image1 = Image.open(r\"..\\data\\bubble.png\")\n",
    "# image2 = Image.open(r\".\\docs\\bluejay.jpg\")\n",
    "processed_image = ColPaliProcessor.process_images(processor, [image1])\n",
    "with torch.no_grad():\n",
    "    processed_image = {k: v.to(model.device) for k, v in processed_image.items()}\n",
    "    ps = model(**processed_image)\n",
    "\n",
    "# Move the embedding to CPU and convert to a regular Python list if needed\n",
    "# embedding_cpu = ps.cpu()\n",
    "# embedding_list = embedding_cpu.tolist() \n",
    "\n",
    "# print(f\"Embedding shape: {embedding_cpu.shape}\")\n",
    "# print(f\"Embedding type: {embedding_cpu.dtype}\")"
   ]
  },
  {
   "cell_type": "markdown",
   "metadata": {},
   "source": [
    "# Embed a query"
   ]
  },
  {
   "cell_type": "code",
   "execution_count": 3,
   "metadata": {},
   "outputs": [
    {
     "name": "stderr",
     "output_type": "stream",
     "text": [
      "C:\\Users\\Kenta Sakai\\AppData\\Local\\Packages\\PythonSoftwareFoundation.Python.3.10_qbz5n2kfra8p0\\LocalCache\\local-packages\\Python310\\site-packages\\transformers\\models\\gemma\\modeling_gemma.py:374: UserWarning: 1Torch was not compiled with flash attention. (Triggered internally at C:\\actions-runner\\_work\\pytorch\\pytorch\\builder\\windows\\pytorch\\aten\\src\\ATen\\native\\transformers\\cuda\\sdp_utils.cpp:555.)\n",
      "  attn_output = torch.nn.functional.scaled_dot_product_attention(\n",
      "Starting from v4.46, the `logits` model output will have the same type as the model (except at train time, where it will always be FP32)\n"
     ]
    }
   ],
   "source": [
    "queries = [\"When did Apple release their 8-K\"]\n",
    "\n",
    "# Process queries\n",
    "batch_query = processor.process_queries(queries)\n",
    "\n",
    "# Compute embeddings\n",
    "device = torch.device(\"cuda\")\n",
    "with torch.no_grad():\n",
    "    batch_query = {k: v.to(model.device) for k, v in batch_query.items()}\n",
    "    qs = model(**batch_query)"
   ]
  },
  {
   "cell_type": "code",
   "execution_count": 5,
   "metadata": {},
   "outputs": [],
   "source": [
    "torch.save(qs, \"query.pt\")"
   ]
  },
  {
   "cell_type": "code",
   "execution_count": 23,
   "metadata": {},
   "outputs": [
    {
     "data": {
      "text/plain": [
       "tensor([[14.4375],\n",
       "        [13.9375]])"
      ]
     },
     "execution_count": 23,
     "metadata": {},
     "output_type": "execute_result"
    }
   ],
   "source": [
    "# Compute distance\n",
    "processor.score(qs, ps)"
   ]
  },
  {
   "cell_type": "code",
   "execution_count": 6,
   "metadata": {},
   "outputs": [
    {
     "data": {
      "text/plain": [
       "torch.Size([1, 32, 128])"
      ]
     },
     "execution_count": 6,
     "metadata": {},
     "output_type": "execute_result"
    }
   ],
   "source": [
    "qs.size()"
   ]
  },
  {
   "cell_type": "markdown",
   "metadata": {},
   "source": [
    "# II) How do I embed an entire PDF?"
   ]
  },
  {
   "cell_type": "code",
   "execution_count": 2,
   "metadata": {},
   "outputs": [
    {
     "name": "stderr",
     "output_type": "stream",
     "text": [
      "C:\\Users\\Kenta Sakai\\AppData\\Local\\Packages\\PythonSoftwareFoundation.Python.3.10_qbz5n2kfra8p0\\LocalCache\\local-packages\\Python310\\site-packages\\transformers\\models\\siglip\\modeling_siglip.py:574: UserWarning: 1Torch was not compiled with flash attention. (Triggered internally at C:\\actions-runner\\_work\\pytorch\\pytorch\\builder\\windows\\pytorch\\aten\\src\\ATen\\native\\transformers\\cuda\\sdp_utils.cpp:555.)\n",
      "  attn_output = torch.nn.functional.scaled_dot_product_attention(\n",
      "Starting from v4.46, the `logits` model output will have the same type as the model (except at train time, where it will always be FP32)\n"
     ]
    }
   ],
   "source": [
    "from pdf2image import convert_from_path\n",
    "\n",
    "def convert_pdf_to_images(pdf_path):\n",
    "    images = convert_from_path(pdf_path, poppler_path = r\"C:\\Program Files\\poppler-24.07.0\\Library\\bin\")\n",
    "    \n",
    "    processed_image = ColPaliProcessor.process_images(processor, images)\n",
    "    \n",
    "    with torch.no_grad():\n",
    "        processed_image = {k: v.to(model.device) for k, v in processed_image.items()}\n",
    "        embedding = model(**processed_image)\n",
    "\n",
    "    return embedding\n",
    "        \n",
    "pdf_path = r\"C:\\Users\\Kenta Sakai\\projects\\FinDoc-Retrieval\\data\\pdf\\0000320193-23-000005.pdf\"\n",
    "\n",
    "embedding = convert_pdf_to_images(pdf_path)"
   ]
  },
  {
   "cell_type": "code",
   "execution_count": 3,
   "metadata": {},
   "outputs": [
    {
     "data": {
      "text/plain": [
       "torch.Size([4, 1030, 128])"
      ]
     },
     "execution_count": 3,
     "metadata": {},
     "output_type": "execute_result"
    }
   ],
   "source": [
    "embedding.size()"
   ]
  }
 ],
 "metadata": {
  "kernelspec": {
   "display_name": "Python 3",
   "language": "python",
   "name": "python3"
  },
  "language_info": {
   "codemirror_mode": {
    "name": "ipython",
    "version": 3
   },
   "file_extension": ".py",
   "mimetype": "text/x-python",
   "name": "python",
   "nbconvert_exporter": "python",
   "pygments_lexer": "ipython3",
   "version": "3.10.11"
  }
 },
 "nbformat": 4,
 "nbformat_minor": 2
}
